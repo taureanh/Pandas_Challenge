{
 "cells": [
  {
   "cell_type": "markdown",
   "metadata": {},
   "source": [
    "### Note\n",
    "* Instructions have been included for each segment. You do not have to follow them exactly, but they are included to help you think through the steps."
   ]
  },
  {
   "cell_type": "code",
   "execution_count": 4,
   "metadata": {},
   "outputs": [
    {
     "data": {
      "text/html": [
       "<div>\n",
       "<style scoped>\n",
       "    .dataframe tbody tr th:only-of-type {\n",
       "        vertical-align: middle;\n",
       "    }\n",
       "\n",
       "    .dataframe tbody tr th {\n",
       "        vertical-align: top;\n",
       "    }\n",
       "\n",
       "    .dataframe thead th {\n",
       "        text-align: right;\n",
       "    }\n",
       "</style>\n",
       "<table border=\"1\" class=\"dataframe\">\n",
       "  <thead>\n",
       "    <tr style=\"text-align: right;\">\n",
       "      <th></th>\n",
       "      <th>Purchase ID</th>\n",
       "      <th>SN</th>\n",
       "      <th>Age</th>\n",
       "      <th>Gender</th>\n",
       "      <th>Item ID</th>\n",
       "      <th>Item Name</th>\n",
       "      <th>Price</th>\n",
       "    </tr>\n",
       "  </thead>\n",
       "  <tbody>\n",
       "    <tr>\n",
       "      <th>0</th>\n",
       "      <td>0</td>\n",
       "      <td>Lisim78</td>\n",
       "      <td>20</td>\n",
       "      <td>Male</td>\n",
       "      <td>108</td>\n",
       "      <td>Extraction, Quickblade Of Trembling Hands</td>\n",
       "      <td>3.53</td>\n",
       "    </tr>\n",
       "    <tr>\n",
       "      <th>1</th>\n",
       "      <td>1</td>\n",
       "      <td>Lisovynya38</td>\n",
       "      <td>40</td>\n",
       "      <td>Male</td>\n",
       "      <td>143</td>\n",
       "      <td>Frenzied Scimitar</td>\n",
       "      <td>1.56</td>\n",
       "    </tr>\n",
       "    <tr>\n",
       "      <th>2</th>\n",
       "      <td>2</td>\n",
       "      <td>Ithergue48</td>\n",
       "      <td>24</td>\n",
       "      <td>Male</td>\n",
       "      <td>92</td>\n",
       "      <td>Final Critic</td>\n",
       "      <td>4.88</td>\n",
       "    </tr>\n",
       "    <tr>\n",
       "      <th>3</th>\n",
       "      <td>3</td>\n",
       "      <td>Chamassasya86</td>\n",
       "      <td>24</td>\n",
       "      <td>Male</td>\n",
       "      <td>100</td>\n",
       "      <td>Blindscythe</td>\n",
       "      <td>3.27</td>\n",
       "    </tr>\n",
       "    <tr>\n",
       "      <th>4</th>\n",
       "      <td>4</td>\n",
       "      <td>Iskosia90</td>\n",
       "      <td>23</td>\n",
       "      <td>Male</td>\n",
       "      <td>131</td>\n",
       "      <td>Fury</td>\n",
       "      <td>1.44</td>\n",
       "    </tr>\n",
       "  </tbody>\n",
       "</table>\n",
       "</div>"
      ],
      "text/plain": [
       "   Purchase ID             SN  Age Gender  Item ID  \\\n",
       "0            0        Lisim78   20   Male      108   \n",
       "1            1    Lisovynya38   40   Male      143   \n",
       "2            2     Ithergue48   24   Male       92   \n",
       "3            3  Chamassasya86   24   Male      100   \n",
       "4            4      Iskosia90   23   Male      131   \n",
       "\n",
       "                                   Item Name  Price  \n",
       "0  Extraction, Quickblade Of Trembling Hands   3.53  \n",
       "1                          Frenzied Scimitar   1.56  \n",
       "2                               Final Critic   4.88  \n",
       "3                                Blindscythe   3.27  \n",
       "4                                       Fury   1.44  "
      ]
     },
     "execution_count": 4,
     "metadata": {},
     "output_type": "execute_result"
    }
   ],
   "source": [
    "# Dependencies and Setup\n",
    "import pandas as pd\n",
    "\n",
    "# File to Load (Remember to Change These)\n",
    "file_to_load = \"Resources/purchase_data.csv\"\n",
    "\n",
    "# Read Purchasing File and store into Pandas data frame\n",
    "purchase_data = pd.read_csv(file_to_load)\n",
    "purchase_data.head()"
   ]
  },
  {
   "cell_type": "markdown",
   "metadata": {},
   "source": [
    "## Player Count"
   ]
  },
  {
   "cell_type": "markdown",
   "metadata": {},
   "source": [
    "* Display the total number of players\n"
   ]
  },
  {
   "cell_type": "code",
   "execution_count": 5,
   "metadata": {
    "scrolled": true
   },
   "outputs": [
    {
     "data": {
      "text/html": [
       "<div>\n",
       "<style scoped>\n",
       "    .dataframe tbody tr th:only-of-type {\n",
       "        vertical-align: middle;\n",
       "    }\n",
       "\n",
       "    .dataframe tbody tr th {\n",
       "        vertical-align: top;\n",
       "    }\n",
       "\n",
       "    .dataframe thead th {\n",
       "        text-align: right;\n",
       "    }\n",
       "</style>\n",
       "<table border=\"1\" class=\"dataframe\">\n",
       "  <thead>\n",
       "    <tr style=\"text-align: right;\">\n",
       "      <th></th>\n",
       "      <th>Total Players</th>\n",
       "    </tr>\n",
       "  </thead>\n",
       "  <tbody>\n",
       "    <tr>\n",
       "      <th>0</th>\n",
       "      <td>576</td>\n",
       "    </tr>\n",
       "  </tbody>\n",
       "</table>\n",
       "</div>"
      ],
      "text/plain": [
       "   Total Players\n",
       "0            576"
      ]
     },
     "execution_count": 5,
     "metadata": {},
     "output_type": "execute_result"
    }
   ],
   "source": [
    "total_players = len(purchase_data[\"SN\"].value_counts())\n",
    "total_players\n",
    "count = pd.DataFrame({\"Total Players\":[total_players]})\n",
    "count"
   ]
  },
  {
   "cell_type": "markdown",
   "metadata": {},
   "source": [
    "## Purchasing Analysis (Total)"
   ]
  },
  {
   "cell_type": "markdown",
   "metadata": {},
   "source": [
    "* Run basic calculations to obtain number of unique items, average price, etc.\n",
    "\n",
    "\n",
    "* Create a summary data frame to hold the results\n",
    "\n",
    "\n",
    "* Optional: give the displayed data cleaner formatting\n",
    "\n",
    "\n",
    "* Display the summary data frame\n"
   ]
  },
  {
   "cell_type": "code",
   "execution_count": 6,
   "metadata": {
    "scrolled": false
   },
   "outputs": [
    {
     "data": {
      "text/html": [
       "<div>\n",
       "<style scoped>\n",
       "    .dataframe tbody tr th:only-of-type {\n",
       "        vertical-align: middle;\n",
       "    }\n",
       "\n",
       "    .dataframe tbody tr th {\n",
       "        vertical-align: top;\n",
       "    }\n",
       "\n",
       "    .dataframe thead th {\n",
       "        text-align: right;\n",
       "    }\n",
       "</style>\n",
       "<table border=\"1\" class=\"dataframe\">\n",
       "  <thead>\n",
       "    <tr style=\"text-align: right;\">\n",
       "      <th></th>\n",
       "      <th>Number of Unique Items</th>\n",
       "      <th>Average Price</th>\n",
       "      <th>Number of Purchases</th>\n",
       "      <th>Total Revenue</th>\n",
       "    </tr>\n",
       "  </thead>\n",
       "  <tbody>\n",
       "    <tr>\n",
       "      <th>0</th>\n",
       "      <td>179</td>\n",
       "      <td>$3.05</td>\n",
       "      <td>780</td>\n",
       "      <td>$2,379.77</td>\n",
       "    </tr>\n",
       "  </tbody>\n",
       "</table>\n",
       "</div>"
      ],
      "text/plain": [
       "   Number of Unique Items Average Price  Number of Purchases Total Revenue\n",
       "0                     179         $3.05                  780     $2,379.77"
      ]
     },
     "execution_count": 6,
     "metadata": {},
     "output_type": "execute_result"
    }
   ],
   "source": [
    "items = len(purchase_data[\"Item Name\"].value_counts())\n",
    "items\n",
    "average_price = purchase_data[\"Price\"].mean()\n",
    "average_price\n",
    "sum_price = purchase_data[\"Price\"].sum()\n",
    "sum_price\n",
    "purchases = purchase_data[\"Item Name\"].count()\n",
    "purchases\n",
    "purchasing_analysis = [{\"Number of Unique Items\":items,\"Average Price\":average_price,\"Number of Purchases\":purchases,\"Total Revenue\":sum_price}]\n",
    "purchasing_analysis_df = pd.DataFrame(purchasing_analysis)\n",
    "purchasing_analysis_df = purchasing_analysis_df.round(2)\n",
    "purchasing_analysis_df [\"Average Price\"] = purchasing_analysis_df[\"Average Price\"].map(\"${:,.2f}\".format)\n",
    "purchasing_analysis_df [\"Total Revenue\"] = purchasing_analysis_df[\"Total Revenue\"].map(\"${:,.2f}\".format)\n",
    "purchasing_analysis_df"
   ]
  },
  {
   "cell_type": "markdown",
   "metadata": {},
   "source": [
    "## Gender Demographics"
   ]
  },
  {
   "cell_type": "markdown",
   "metadata": {},
   "source": [
    "* Percentage and Count of Male Players\n",
    "\n",
    "\n",
    "* Percentage and Count of Female Players\n",
    "\n",
    "\n",
    "* Percentage and Count of Other / Non-Disclosed\n",
    "\n",
    "\n"
   ]
  },
  {
   "cell_type": "code",
   "execution_count": 7,
   "metadata": {},
   "outputs": [
    {
     "data": {
      "text/html": [
       "<div>\n",
       "<style scoped>\n",
       "    .dataframe tbody tr th:only-of-type {\n",
       "        vertical-align: middle;\n",
       "    }\n",
       "\n",
       "    .dataframe tbody tr th {\n",
       "        vertical-align: top;\n",
       "    }\n",
       "\n",
       "    .dataframe thead th {\n",
       "        text-align: right;\n",
       "    }\n",
       "</style>\n",
       "<table border=\"1\" class=\"dataframe\">\n",
       "  <thead>\n",
       "    <tr style=\"text-align: right;\">\n",
       "      <th></th>\n",
       "      <th>Percentage of Players</th>\n",
       "      <th>Total Count</th>\n",
       "    </tr>\n",
       "    <tr>\n",
       "      <th>Gender</th>\n",
       "      <th></th>\n",
       "      <th></th>\n",
       "    </tr>\n",
       "  </thead>\n",
       "  <tbody>\n",
       "    <tr>\n",
       "      <th>Female</th>\n",
       "      <td>14.06</td>\n",
       "      <td>81</td>\n",
       "    </tr>\n",
       "    <tr>\n",
       "      <th>Male</th>\n",
       "      <td>84.03</td>\n",
       "      <td>484</td>\n",
       "    </tr>\n",
       "    <tr>\n",
       "      <th>Other / Non-Disclosed</th>\n",
       "      <td>1.91</td>\n",
       "      <td>11</td>\n",
       "    </tr>\n",
       "  </tbody>\n",
       "</table>\n",
       "</div>"
      ],
      "text/plain": [
       "                      Percentage of Players  Total Count\n",
       "Gender                                                  \n",
       "Female                                14.06           81\n",
       "Male                                  84.03          484\n",
       "Other / Non-Disclosed                  1.91           11"
      ]
     },
     "execution_count": 7,
     "metadata": {},
     "output_type": "execute_result"
    }
   ],
   "source": [
    "gender_stats = purchase_data.groupby(\"Gender\")\n",
    "gender_stats\n",
    "total_count = gender_stats.nunique()[\"SN\"]\n",
    "total_count\n",
    "gender_percents = (total_count/total_players)*100\n",
    "gender_percents\n",
    "gender_demographics = pd.DataFrame({\"Percentage of Players\": gender_percents, \"Total Count\": total_count})\n",
    "gender_demographics\n",
    "gender_demographics [\"Percentage of Players\"] = gender_demographics[\"Percentage of Players\"].map(\"{:,.2f}\".format)\n",
    "gender_demographics\n"
   ]
  },
  {
   "cell_type": "markdown",
   "metadata": {},
   "source": [
    "\n",
    "## Purchasing Analysis (Gender)"
   ]
  },
  {
   "cell_type": "markdown",
   "metadata": {},
   "source": [
    "* Run basic calculations to obtain purchase count, avg. purchase price, avg. purchase total per person etc. by gender\n",
    "\n",
    "\n",
    "\n",
    "\n",
    "* Create a summary data frame to hold the results\n",
    "\n",
    "\n",
    "* Optional: give the displayed data cleaner formatting\n",
    "\n",
    "\n",
    "* Display the summary data frame"
   ]
  },
  {
   "cell_type": "code",
   "execution_count": 8,
   "metadata": {},
   "outputs": [
    {
     "data": {
      "text/html": [
       "<div>\n",
       "<style scoped>\n",
       "    .dataframe tbody tr th:only-of-type {\n",
       "        vertical-align: middle;\n",
       "    }\n",
       "\n",
       "    .dataframe tbody tr th {\n",
       "        vertical-align: top;\n",
       "    }\n",
       "\n",
       "    .dataframe thead th {\n",
       "        text-align: right;\n",
       "    }\n",
       "</style>\n",
       "<table border=\"1\" class=\"dataframe\">\n",
       "  <thead>\n",
       "    <tr style=\"text-align: right;\">\n",
       "      <th></th>\n",
       "      <th>Purchase Count</th>\n",
       "      <th>Average Purchase Price</th>\n",
       "      <th>Average Purchase Value</th>\n",
       "      <th>Avg Purchase Total per Person</th>\n",
       "    </tr>\n",
       "    <tr>\n",
       "      <th>Gender</th>\n",
       "      <th></th>\n",
       "      <th></th>\n",
       "      <th></th>\n",
       "      <th></th>\n",
       "    </tr>\n",
       "  </thead>\n",
       "  <tbody>\n",
       "    <tr>\n",
       "      <th>Female</th>\n",
       "      <td>113</td>\n",
       "      <td>$3.20</td>\n",
       "      <td>$361.94</td>\n",
       "      <td>$4.47</td>\n",
       "    </tr>\n",
       "    <tr>\n",
       "      <th>Male</th>\n",
       "      <td>652</td>\n",
       "      <td>$3.02</td>\n",
       "      <td>$1,967.64</td>\n",
       "      <td>$4.07</td>\n",
       "    </tr>\n",
       "    <tr>\n",
       "      <th>Other / Non-Disclosed</th>\n",
       "      <td>15</td>\n",
       "      <td>$3.35</td>\n",
       "      <td>$50.19</td>\n",
       "      <td>$4.56</td>\n",
       "    </tr>\n",
       "  </tbody>\n",
       "</table>\n",
       "</div>"
      ],
      "text/plain": [
       "                       Purchase Count Average Purchase Price  \\\n",
       "Gender                                                         \n",
       "Female                            113                  $3.20   \n",
       "Male                              652                  $3.02   \n",
       "Other / Non-Disclosed              15                  $3.35   \n",
       "\n",
       "                      Average Purchase Value Avg Purchase Total per Person  \n",
       "Gender                                                                      \n",
       "Female                               $361.94                         $4.47  \n",
       "Male                               $1,967.64                         $4.07  \n",
       "Other / Non-Disclosed                 $50.19                         $4.56  "
      ]
     },
     "execution_count": 8,
     "metadata": {},
     "output_type": "execute_result"
    }
   ],
   "source": [
    "purchase_count = gender_stats[\"Purchase ID\"].count()\n",
    "purchase_count\n",
    "avg_purchase_price = gender_stats[\"Price\"].mean()\n",
    "avg_purchase_price\n",
    "avg_purchase_total = gender_stats[\"Price\"].sum()\n",
    "avg_purchase_total\n",
    "avg_purchase_per_person = avg_purchase_total/total_count\n",
    "avg_purchase_per_person\n",
    "purchase_demographics = round(pd.DataFrame({\"Purchase Count\": purchase_count, \n",
    "                                    \"Average Purchase Price\": avg_purchase_price,\n",
    "                                    \"Average Purchase Value\":avg_purchase_total,\n",
    "                                    \"Avg Purchase Total per Person\": avg_purchase_per_person}),2)\n",
    "purchase_demographics\n",
    "purchase_demographics [\"Average Purchase Price\"] = purchase_demographics[\"Average Purchase Price\"].map(\"${:,.2f}\".format)\n",
    "purchase_demographics [\"Average Purchase Value\"] = purchase_demographics[\"Average Purchase Value\"].map(\"${:,.2f}\".format)\n",
    "purchase_demographics [\"Avg Purchase Total per Person\"] = purchase_demographics[\"Avg Purchase Total per Person\"].map(\"${:,.2f}\".format)\n",
    "purchase_demographics"
   ]
  },
  {
   "cell_type": "markdown",
   "metadata": {},
   "source": [
    "## Age Demographics"
   ]
  },
  {
   "cell_type": "markdown",
   "metadata": {},
   "source": [
    "* Establish bins for ages\n",
    "\n",
    "\n",
    "* Categorize the existing players using the age bins. Hint: use pd.cut()\n",
    "\n",
    "\n",
    "* Calculate the numbers and percentages by age group\n",
    "\n",
    "\n",
    "* Create a summary data frame to hold the results\n",
    "\n",
    "\n",
    "* Optional: round the percentage column to two decimal points\n",
    "\n",
    "\n",
    "* Display Age Demographics Table\n"
   ]
  },
  {
   "cell_type": "code",
   "execution_count": 9,
   "metadata": {},
   "outputs": [
    {
     "data": {
      "text/html": [
       "<style  type=\"text/css\" >\n",
       "</style><table id=\"T_feadecc8_be25_11ea_aadc_30d16be174ea\" ><thead>    <tr>        <th class=\"blank level0\" ></th>        <th class=\"col_heading level0 col0\" >Percentage of Players</th>        <th class=\"col_heading level0 col1\" >Total Count</th>    </tr>    <tr>        <th class=\"index_name level0\" >Age Group</th>        <th class=\"blank\" ></th>        <th class=\"blank\" ></th>    </tr></thead><tbody>\n",
       "                <tr>\n",
       "                        <th id=\"T_feadecc8_be25_11ea_aadc_30d16be174ealevel0_row0\" class=\"row_heading level0 row0\" ><10</th>\n",
       "                        <td id=\"T_feadecc8_be25_11ea_aadc_30d16be174earow0_col0\" class=\"data row0 col0\" >2.95</td>\n",
       "                        <td id=\"T_feadecc8_be25_11ea_aadc_30d16be174earow0_col1\" class=\"data row0 col1\" >17</td>\n",
       "            </tr>\n",
       "            <tr>\n",
       "                        <th id=\"T_feadecc8_be25_11ea_aadc_30d16be174ealevel0_row1\" class=\"row_heading level0 row1\" >10-14</th>\n",
       "                        <td id=\"T_feadecc8_be25_11ea_aadc_30d16be174earow1_col0\" class=\"data row1 col0\" >3.82</td>\n",
       "                        <td id=\"T_feadecc8_be25_11ea_aadc_30d16be174earow1_col1\" class=\"data row1 col1\" >22</td>\n",
       "            </tr>\n",
       "            <tr>\n",
       "                        <th id=\"T_feadecc8_be25_11ea_aadc_30d16be174ealevel0_row2\" class=\"row_heading level0 row2\" >15-19</th>\n",
       "                        <td id=\"T_feadecc8_be25_11ea_aadc_30d16be174earow2_col0\" class=\"data row2 col0\" >18.58</td>\n",
       "                        <td id=\"T_feadecc8_be25_11ea_aadc_30d16be174earow2_col1\" class=\"data row2 col1\" >107</td>\n",
       "            </tr>\n",
       "            <tr>\n",
       "                        <th id=\"T_feadecc8_be25_11ea_aadc_30d16be174ealevel0_row3\" class=\"row_heading level0 row3\" >20-24</th>\n",
       "                        <td id=\"T_feadecc8_be25_11ea_aadc_30d16be174earow3_col0\" class=\"data row3 col0\" >44.79</td>\n",
       "                        <td id=\"T_feadecc8_be25_11ea_aadc_30d16be174earow3_col1\" class=\"data row3 col1\" >258</td>\n",
       "            </tr>\n",
       "            <tr>\n",
       "                        <th id=\"T_feadecc8_be25_11ea_aadc_30d16be174ealevel0_row4\" class=\"row_heading level0 row4\" >25-29</th>\n",
       "                        <td id=\"T_feadecc8_be25_11ea_aadc_30d16be174earow4_col0\" class=\"data row4 col0\" >13.37</td>\n",
       "                        <td id=\"T_feadecc8_be25_11ea_aadc_30d16be174earow4_col1\" class=\"data row4 col1\" >77</td>\n",
       "            </tr>\n",
       "            <tr>\n",
       "                        <th id=\"T_feadecc8_be25_11ea_aadc_30d16be174ealevel0_row5\" class=\"row_heading level0 row5\" >30-34</th>\n",
       "                        <td id=\"T_feadecc8_be25_11ea_aadc_30d16be174earow5_col0\" class=\"data row5 col0\" >9.03</td>\n",
       "                        <td id=\"T_feadecc8_be25_11ea_aadc_30d16be174earow5_col1\" class=\"data row5 col1\" >52</td>\n",
       "            </tr>\n",
       "            <tr>\n",
       "                        <th id=\"T_feadecc8_be25_11ea_aadc_30d16be174ealevel0_row6\" class=\"row_heading level0 row6\" >35-39</th>\n",
       "                        <td id=\"T_feadecc8_be25_11ea_aadc_30d16be174earow6_col0\" class=\"data row6 col0\" >5.38</td>\n",
       "                        <td id=\"T_feadecc8_be25_11ea_aadc_30d16be174earow6_col1\" class=\"data row6 col1\" >31</td>\n",
       "            </tr>\n",
       "            <tr>\n",
       "                        <th id=\"T_feadecc8_be25_11ea_aadc_30d16be174ealevel0_row7\" class=\"row_heading level0 row7\" >>40</th>\n",
       "                        <td id=\"T_feadecc8_be25_11ea_aadc_30d16be174earow7_col0\" class=\"data row7 col0\" >2.08</td>\n",
       "                        <td id=\"T_feadecc8_be25_11ea_aadc_30d16be174earow7_col1\" class=\"data row7 col1\" >12</td>\n",
       "            </tr>\n",
       "    </tbody></table>"
      ],
      "text/plain": [
       "<pandas.io.formats.style.Styler at 0x255a5e5d248>"
      ]
     },
     "execution_count": 9,
     "metadata": {},
     "output_type": "execute_result"
    }
   ],
   "source": [
    "age_bins = [0, 10, 15, 20, 24.9, 29.9, 34.90, 39.90, 9999999]\n",
    "\n",
    "group_names = [\"<10\", \"10-14\", \"15-19\", \"20-24\", \"25-29\", \"30-34\", \"35-39\", \">40\"]\n",
    "\n",
    "purchase_data[\"Age Group\"] = pd.cut(purchase_data[\"Age\"],age_bins, labels=group_names)\n",
    "\n",
    "purchase_data\n",
    "\n",
    "age_grouped = purchase_data.groupby(\"Age Group\")\n",
    "\n",
    "total_count_age = age_grouped[\"SN\"].nunique()\n",
    "\n",
    "percentage_by_age = (total_count_age/total_players) * 100\n",
    "\n",
    "age_demographics = pd.DataFrame({\"Percentage of Players\": percentage_by_age, \"Total Count\": total_count_age})\n",
    "\n",
    "age_demographics.style.format({\"Percentage of Players\":\"{:,.2f}\"})\n"
   ]
  },
  {
   "cell_type": "markdown",
   "metadata": {},
   "source": [
    "## Purchasing Analysis (Age)"
   ]
  },
  {
   "cell_type": "markdown",
   "metadata": {},
   "source": [
    "* Bin the purchase_data data frame by age\n",
    "\n",
    "\n",
    "* Run basic calculations to obtain purchase count, avg. purchase price, avg. purchase total per person etc. in the table below\n",
    "\n",
    "\n",
    "* Create a summary data frame to hold the results\n",
    "\n",
    "\n",
    "* Optional: give the displayed data cleaner formatting\n",
    "\n",
    "\n",
    "* Display the summary data frame"
   ]
  },
  {
   "cell_type": "code",
   "execution_count": 118,
   "metadata": {},
   "outputs": [
    {
     "data": {
      "text/html": [
       "<style  type=\"text/css\" >\n",
       "</style><table id=\"T_0e41134a_bd6c_11ea_a4d3_30d16be174ea\" ><thead>    <tr>        <th class=\"blank level0\" ></th>        <th class=\"col_heading level0 col0\" >Purchase Count</th>        <th class=\"col_heading level0 col1\" >Average Purchase Price</th>        <th class=\"col_heading level0 col2\" >Total Purchase Value</th>        <th class=\"col_heading level0 col3\" >Average Purchase Total per Person</th>    </tr>    <tr>        <th class=\"index_name level0\" >Age Group</th>        <th class=\"blank\" ></th>        <th class=\"blank\" ></th>        <th class=\"blank\" ></th>        <th class=\"blank\" ></th>    </tr></thead><tbody>\n",
       "                <tr>\n",
       "                        <th id=\"T_0e41134a_bd6c_11ea_a4d3_30d16be174ealevel0_row0\" class=\"row_heading level0 row0\" ><10</th>\n",
       "                        <td id=\"T_0e41134a_bd6c_11ea_a4d3_30d16be174earow0_col0\" class=\"data row0 col0\" >23</td>\n",
       "                        <td id=\"T_0e41134a_bd6c_11ea_a4d3_30d16be174earow0_col1\" class=\"data row0 col1\" >$3.35</td>\n",
       "                        <td id=\"T_0e41134a_bd6c_11ea_a4d3_30d16be174earow0_col2\" class=\"data row0 col2\" >$77.13</td>\n",
       "                        <td id=\"T_0e41134a_bd6c_11ea_a4d3_30d16be174earow0_col3\" class=\"data row0 col3\" >$4.54</td>\n",
       "            </tr>\n",
       "            <tr>\n",
       "                        <th id=\"T_0e41134a_bd6c_11ea_a4d3_30d16be174ealevel0_row1\" class=\"row_heading level0 row1\" >10-14</th>\n",
       "                        <td id=\"T_0e41134a_bd6c_11ea_a4d3_30d16be174earow1_col0\" class=\"data row1 col0\" >28</td>\n",
       "                        <td id=\"T_0e41134a_bd6c_11ea_a4d3_30d16be174earow1_col1\" class=\"data row1 col1\" >$2.96</td>\n",
       "                        <td id=\"T_0e41134a_bd6c_11ea_a4d3_30d16be174earow1_col2\" class=\"data row1 col2\" >$82.78</td>\n",
       "                        <td id=\"T_0e41134a_bd6c_11ea_a4d3_30d16be174earow1_col3\" class=\"data row1 col3\" >$3.76</td>\n",
       "            </tr>\n",
       "            <tr>\n",
       "                        <th id=\"T_0e41134a_bd6c_11ea_a4d3_30d16be174ealevel0_row2\" class=\"row_heading level0 row2\" >15-19</th>\n",
       "                        <td id=\"T_0e41134a_bd6c_11ea_a4d3_30d16be174earow2_col0\" class=\"data row2 col0\" >136</td>\n",
       "                        <td id=\"T_0e41134a_bd6c_11ea_a4d3_30d16be174earow2_col1\" class=\"data row2 col1\" >$3.04</td>\n",
       "                        <td id=\"T_0e41134a_bd6c_11ea_a4d3_30d16be174earow2_col2\" class=\"data row2 col2\" >$412.89</td>\n",
       "                        <td id=\"T_0e41134a_bd6c_11ea_a4d3_30d16be174earow2_col3\" class=\"data row2 col3\" >$3.86</td>\n",
       "            </tr>\n",
       "            <tr>\n",
       "                        <th id=\"T_0e41134a_bd6c_11ea_a4d3_30d16be174ealevel0_row3\" class=\"row_heading level0 row3\" >20-24</th>\n",
       "                        <td id=\"T_0e41134a_bd6c_11ea_a4d3_30d16be174earow3_col0\" class=\"data row3 col0\" >365</td>\n",
       "                        <td id=\"T_0e41134a_bd6c_11ea_a4d3_30d16be174earow3_col1\" class=\"data row3 col1\" >$3.05</td>\n",
       "                        <td id=\"T_0e41134a_bd6c_11ea_a4d3_30d16be174earow3_col2\" class=\"data row3 col2\" >$1,114.06</td>\n",
       "                        <td id=\"T_0e41134a_bd6c_11ea_a4d3_30d16be174earow3_col3\" class=\"data row3 col3\" >$4.32</td>\n",
       "            </tr>\n",
       "            <tr>\n",
       "                        <th id=\"T_0e41134a_bd6c_11ea_a4d3_30d16be174ealevel0_row4\" class=\"row_heading level0 row4\" >25-29</th>\n",
       "                        <td id=\"T_0e41134a_bd6c_11ea_a4d3_30d16be174earow4_col0\" class=\"data row4 col0\" >101</td>\n",
       "                        <td id=\"T_0e41134a_bd6c_11ea_a4d3_30d16be174earow4_col1\" class=\"data row4 col1\" >$2.90</td>\n",
       "                        <td id=\"T_0e41134a_bd6c_11ea_a4d3_30d16be174earow4_col2\" class=\"data row4 col2\" >$293.00</td>\n",
       "                        <td id=\"T_0e41134a_bd6c_11ea_a4d3_30d16be174earow4_col3\" class=\"data row4 col3\" >$3.81</td>\n",
       "            </tr>\n",
       "            <tr>\n",
       "                        <th id=\"T_0e41134a_bd6c_11ea_a4d3_30d16be174ealevel0_row5\" class=\"row_heading level0 row5\" >30-34</th>\n",
       "                        <td id=\"T_0e41134a_bd6c_11ea_a4d3_30d16be174earow5_col0\" class=\"data row5 col0\" >73</td>\n",
       "                        <td id=\"T_0e41134a_bd6c_11ea_a4d3_30d16be174earow5_col1\" class=\"data row5 col1\" >$2.93</td>\n",
       "                        <td id=\"T_0e41134a_bd6c_11ea_a4d3_30d16be174earow5_col2\" class=\"data row5 col2\" >$214.00</td>\n",
       "                        <td id=\"T_0e41134a_bd6c_11ea_a4d3_30d16be174earow5_col3\" class=\"data row5 col3\" >$4.12</td>\n",
       "            </tr>\n",
       "            <tr>\n",
       "                        <th id=\"T_0e41134a_bd6c_11ea_a4d3_30d16be174ealevel0_row6\" class=\"row_heading level0 row6\" >35-39</th>\n",
       "                        <td id=\"T_0e41134a_bd6c_11ea_a4d3_30d16be174earow6_col0\" class=\"data row6 col0\" >41</td>\n",
       "                        <td id=\"T_0e41134a_bd6c_11ea_a4d3_30d16be174earow6_col1\" class=\"data row6 col1\" >$3.60</td>\n",
       "                        <td id=\"T_0e41134a_bd6c_11ea_a4d3_30d16be174earow6_col2\" class=\"data row6 col2\" >$147.67</td>\n",
       "                        <td id=\"T_0e41134a_bd6c_11ea_a4d3_30d16be174earow6_col3\" class=\"data row6 col3\" >$4.76</td>\n",
       "            </tr>\n",
       "            <tr>\n",
       "                        <th id=\"T_0e41134a_bd6c_11ea_a4d3_30d16be174ealevel0_row7\" class=\"row_heading level0 row7\" >>40</th>\n",
       "                        <td id=\"T_0e41134a_bd6c_11ea_a4d3_30d16be174earow7_col0\" class=\"data row7 col0\" >13</td>\n",
       "                        <td id=\"T_0e41134a_bd6c_11ea_a4d3_30d16be174earow7_col1\" class=\"data row7 col1\" >$2.94</td>\n",
       "                        <td id=\"T_0e41134a_bd6c_11ea_a4d3_30d16be174earow7_col2\" class=\"data row7 col2\" >$38.24</td>\n",
       "                        <td id=\"T_0e41134a_bd6c_11ea_a4d3_30d16be174earow7_col3\" class=\"data row7 col3\" >$3.19</td>\n",
       "            </tr>\n",
       "    </tbody></table>"
      ],
      "text/plain": [
       "<pandas.io.formats.style.Styler at 0x2416cac5548>"
      ]
     },
     "execution_count": 118,
     "metadata": {},
     "output_type": "execute_result"
    }
   ],
   "source": [
    "purchase_count_age = age_grouped[\"Purchase ID\"].count()\n",
    "\n",
    "avg_purchase_price_age = age_grouped[\"Price\"].mean()\n",
    "\n",
    "total_purchase_value = age_grouped[\"Price\"].sum()\n",
    "\n",
    "avg_purchase_per_person_age = total_purchase_value/total_count_age\n",
    "\n",
    "age_demographics = pd.DataFrame({\"Purchase Count\": purchase_count_age,\n",
    "                                 \"Average Purchase Price\": avg_purchase_price_age,\n",
    "                                 \"Total Purchase Value\":total_purchase_value,\n",
    "                                 \"Average Purchase Total per Person\": avg_purchase_per_person_age})\n",
    "\n",
    "age_demographics.style.format({\"Average Purchase Price\":\"${:,.2f}\",\n",
    "                               \"Total Purchase Value\":\"${:,.2f}\",\n",
    "                               \"Average Purchase Total per Person\":\"${:,.2f}\"})"
   ]
  },
  {
   "cell_type": "markdown",
   "metadata": {},
   "source": [
    "## Top Spenders"
   ]
  },
  {
   "cell_type": "markdown",
   "metadata": {},
   "source": [
    "* Run basic calculations to obtain the results in the table below\n",
    "\n",
    "\n",
    "* Create a summary data frame to hold the results\n",
    "\n",
    "\n",
    "* Sort the total purchase value column in descending order\n",
    "\n",
    "\n",
    "* Optional: give the displayed data cleaner formatting\n",
    "\n",
    "\n",
    "* Display a preview of the summary data frame\n",
    "\n"
   ]
  },
  {
   "cell_type": "code",
   "execution_count": 119,
   "metadata": {
    "scrolled": true
   },
   "outputs": [
    {
     "data": {
      "text/html": [
       "<style  type=\"text/css\" >\n",
       "</style><table id=\"T_b7ccc2ec_bd6f_11ea_9be8_30d16be174ea\" ><thead>    <tr>        <th class=\"blank level0\" ></th>        <th class=\"col_heading level0 col0\" >Purchase Count</th>        <th class=\"col_heading level0 col1\" >Average Purchase Price</th>        <th class=\"col_heading level0 col2\" >Total Purchase Value</th>    </tr>    <tr>        <th class=\"index_name level0\" >SN</th>        <th class=\"blank\" ></th>        <th class=\"blank\" ></th>        <th class=\"blank\" ></th>    </tr></thead><tbody>\n",
       "                <tr>\n",
       "                        <th id=\"T_b7ccc2ec_bd6f_11ea_9be8_30d16be174ealevel0_row0\" class=\"row_heading level0 row0\" >Lisosia93</th>\n",
       "                        <td id=\"T_b7ccc2ec_bd6f_11ea_9be8_30d16be174earow0_col0\" class=\"data row0 col0\" >5</td>\n",
       "                        <td id=\"T_b7ccc2ec_bd6f_11ea_9be8_30d16be174earow0_col1\" class=\"data row0 col1\" >$3.79</td>\n",
       "                        <td id=\"T_b7ccc2ec_bd6f_11ea_9be8_30d16be174earow0_col2\" class=\"data row0 col2\" >$18.96</td>\n",
       "            </tr>\n",
       "            <tr>\n",
       "                        <th id=\"T_b7ccc2ec_bd6f_11ea_9be8_30d16be174ealevel0_row1\" class=\"row_heading level0 row1\" >Idastidru52</th>\n",
       "                        <td id=\"T_b7ccc2ec_bd6f_11ea_9be8_30d16be174earow1_col0\" class=\"data row1 col0\" >4</td>\n",
       "                        <td id=\"T_b7ccc2ec_bd6f_11ea_9be8_30d16be174earow1_col1\" class=\"data row1 col1\" >$3.86</td>\n",
       "                        <td id=\"T_b7ccc2ec_bd6f_11ea_9be8_30d16be174earow1_col2\" class=\"data row1 col2\" >$15.45</td>\n",
       "            </tr>\n",
       "            <tr>\n",
       "                        <th id=\"T_b7ccc2ec_bd6f_11ea_9be8_30d16be174ealevel0_row2\" class=\"row_heading level0 row2\" >Chamjask73</th>\n",
       "                        <td id=\"T_b7ccc2ec_bd6f_11ea_9be8_30d16be174earow2_col0\" class=\"data row2 col0\" >3</td>\n",
       "                        <td id=\"T_b7ccc2ec_bd6f_11ea_9be8_30d16be174earow2_col1\" class=\"data row2 col1\" >$4.61</td>\n",
       "                        <td id=\"T_b7ccc2ec_bd6f_11ea_9be8_30d16be174earow2_col2\" class=\"data row2 col2\" >$13.83</td>\n",
       "            </tr>\n",
       "            <tr>\n",
       "                        <th id=\"T_b7ccc2ec_bd6f_11ea_9be8_30d16be174ealevel0_row3\" class=\"row_heading level0 row3\" >Iral74</th>\n",
       "                        <td id=\"T_b7ccc2ec_bd6f_11ea_9be8_30d16be174earow3_col0\" class=\"data row3 col0\" >4</td>\n",
       "                        <td id=\"T_b7ccc2ec_bd6f_11ea_9be8_30d16be174earow3_col1\" class=\"data row3 col1\" >$3.40</td>\n",
       "                        <td id=\"T_b7ccc2ec_bd6f_11ea_9be8_30d16be174earow3_col2\" class=\"data row3 col2\" >$13.62</td>\n",
       "            </tr>\n",
       "            <tr>\n",
       "                        <th id=\"T_b7ccc2ec_bd6f_11ea_9be8_30d16be174ealevel0_row4\" class=\"row_heading level0 row4\" >Iskadarya95</th>\n",
       "                        <td id=\"T_b7ccc2ec_bd6f_11ea_9be8_30d16be174earow4_col0\" class=\"data row4 col0\" >3</td>\n",
       "                        <td id=\"T_b7ccc2ec_bd6f_11ea_9be8_30d16be174earow4_col1\" class=\"data row4 col1\" >$4.37</td>\n",
       "                        <td id=\"T_b7ccc2ec_bd6f_11ea_9be8_30d16be174earow4_col2\" class=\"data row4 col2\" >$13.10</td>\n",
       "            </tr>\n",
       "    </tbody></table>"
      ],
      "text/plain": [
       "<pandas.io.formats.style.Styler at 0x2416cabd788>"
      ]
     },
     "execution_count": 119,
     "metadata": {},
     "output_type": "execute_result"
    }
   ],
   "source": [
    "spender_stats = purchase_data.groupby(\"SN\")\n",
    "\n",
    "purchase_count_spender = spender_stats[\"Purchase ID\"].count()\n",
    "\n",
    "avg_purchase_price_spender = spender_stats[\"Price\"].mean()\n",
    "\n",
    "purchase_total_spender = spender_stats[\"Price\"].sum()\n",
    "\n",
    "top_spenders = pd.DataFrame({\"Purchase Count\": purchase_count_spender,\n",
    "                             \"Average Purchase Price\": avg_purchase_price_spender,\n",
    "                             \"Total Purchase Value\":purchase_total_spender})\n",
    "\n",
    "formatted_spenders = top_spenders.sort_values([\"Total Purchase Value\"], ascending=False).head()\n",
    "\n",
    "formatted_spenders.style.format({\"Average Purchase Total\":\"${:,.2f}\",\n",
    "                                 \"Average Purchase Price\":\"${:,.2f}\", \n",
    "                                 \"Total Purchase Value\":\"${:,.2f}\"})"
   ]
  },
  {
   "cell_type": "markdown",
   "metadata": {},
   "source": [
    "## Most Popular Items"
   ]
  },
  {
   "cell_type": "markdown",
   "metadata": {},
   "source": [
    "* Retrieve the Item ID, Item Name, and Item Price columns\n",
    "\n",
    "\n",
    "* Group by Item ID and Item Name. Perform calculations to obtain purchase count, item price, and total purchase value\n",
    "\n",
    "\n",
    "* Create a summary data frame to hold the results\n",
    "\n",
    "\n",
    "* Sort the purchase count column in descending order\n",
    "\n",
    "\n",
    "* Optional: give the displayed data cleaner formatting\n",
    "\n",
    "\n",
    "* Display a preview of the summary data frame\n",
    "\n"
   ]
  },
  {
   "cell_type": "code",
   "execution_count": 128,
   "metadata": {},
   "outputs": [
    {
     "data": {
      "text/html": [
       "<style  type=\"text/css\" >\n",
       "</style><table id=\"T_6d7e3c6e_bd70_11ea_9237_30d16be174ea\" ><thead>    <tr>        <th class=\"blank\" ></th>        <th class=\"blank level0\" ></th>        <th class=\"col_heading level0 col0\" >Purchase Count</th>        <th class=\"col_heading level0 col1\" >Item Price</th>        <th class=\"col_heading level0 col2\" >Total Purchase Value</th>    </tr>    <tr>        <th class=\"index_name level0\" >Item ID</th>        <th class=\"index_name level1\" >Item Name</th>        <th class=\"blank\" ></th>        <th class=\"blank\" ></th>        <th class=\"blank\" ></th>    </tr></thead><tbody>\n",
       "                <tr>\n",
       "                        <th id=\"T_6d7e3c6e_bd70_11ea_9237_30d16be174ealevel0_row0\" class=\"row_heading level0 row0\" >178</th>\n",
       "                        <th id=\"T_6d7e3c6e_bd70_11ea_9237_30d16be174ealevel1_row0\" class=\"row_heading level1 row0\" >Oathbreaker, Last Hope of the Breaking Storm</th>\n",
       "                        <td id=\"T_6d7e3c6e_bd70_11ea_9237_30d16be174earow0_col0\" class=\"data row0 col0\" >12</td>\n",
       "                        <td id=\"T_6d7e3c6e_bd70_11ea_9237_30d16be174earow0_col1\" class=\"data row0 col1\" >$4.23</td>\n",
       "                        <td id=\"T_6d7e3c6e_bd70_11ea_9237_30d16be174earow0_col2\" class=\"data row0 col2\" >$50.76</td>\n",
       "            </tr>\n",
       "            <tr>\n",
       "                        <th id=\"T_6d7e3c6e_bd70_11ea_9237_30d16be174ealevel0_row1\" class=\"row_heading level0 row1\" >145</th>\n",
       "                        <th id=\"T_6d7e3c6e_bd70_11ea_9237_30d16be174ealevel1_row1\" class=\"row_heading level1 row1\" >Fiery Glass Crusader</th>\n",
       "                        <td id=\"T_6d7e3c6e_bd70_11ea_9237_30d16be174earow1_col0\" class=\"data row1 col0\" >9</td>\n",
       "                        <td id=\"T_6d7e3c6e_bd70_11ea_9237_30d16be174earow1_col1\" class=\"data row1 col1\" >$4.58</td>\n",
       "                        <td id=\"T_6d7e3c6e_bd70_11ea_9237_30d16be174earow1_col2\" class=\"data row1 col2\" >$41.22</td>\n",
       "            </tr>\n",
       "            <tr>\n",
       "                        <th id=\"T_6d7e3c6e_bd70_11ea_9237_30d16be174ealevel0_row2\" class=\"row_heading level0 row2\" >108</th>\n",
       "                        <th id=\"T_6d7e3c6e_bd70_11ea_9237_30d16be174ealevel1_row2\" class=\"row_heading level1 row2\" >Extraction, Quickblade Of Trembling Hands</th>\n",
       "                        <td id=\"T_6d7e3c6e_bd70_11ea_9237_30d16be174earow2_col0\" class=\"data row2 col0\" >9</td>\n",
       "                        <td id=\"T_6d7e3c6e_bd70_11ea_9237_30d16be174earow2_col1\" class=\"data row2 col1\" >$3.53</td>\n",
       "                        <td id=\"T_6d7e3c6e_bd70_11ea_9237_30d16be174earow2_col2\" class=\"data row2 col2\" >$31.77</td>\n",
       "            </tr>\n",
       "            <tr>\n",
       "                        <th id=\"T_6d7e3c6e_bd70_11ea_9237_30d16be174ealevel0_row3\" class=\"row_heading level0 row3\" >82</th>\n",
       "                        <th id=\"T_6d7e3c6e_bd70_11ea_9237_30d16be174ealevel1_row3\" class=\"row_heading level1 row3\" >Nirvana</th>\n",
       "                        <td id=\"T_6d7e3c6e_bd70_11ea_9237_30d16be174earow3_col0\" class=\"data row3 col0\" >9</td>\n",
       "                        <td id=\"T_6d7e3c6e_bd70_11ea_9237_30d16be174earow3_col1\" class=\"data row3 col1\" >$4.90</td>\n",
       "                        <td id=\"T_6d7e3c6e_bd70_11ea_9237_30d16be174earow3_col2\" class=\"data row3 col2\" >$44.10</td>\n",
       "            </tr>\n",
       "            <tr>\n",
       "                        <th id=\"T_6d7e3c6e_bd70_11ea_9237_30d16be174ealevel0_row4\" class=\"row_heading level0 row4\" >19</th>\n",
       "                        <th id=\"T_6d7e3c6e_bd70_11ea_9237_30d16be174ealevel1_row4\" class=\"row_heading level1 row4\" >Pursuit, Cudgel of Necromancy</th>\n",
       "                        <td id=\"T_6d7e3c6e_bd70_11ea_9237_30d16be174earow4_col0\" class=\"data row4 col0\" >8</td>\n",
       "                        <td id=\"T_6d7e3c6e_bd70_11ea_9237_30d16be174earow4_col1\" class=\"data row4 col1\" >$1.02</td>\n",
       "                        <td id=\"T_6d7e3c6e_bd70_11ea_9237_30d16be174earow4_col2\" class=\"data row4 col2\" >$8.16</td>\n",
       "            </tr>\n",
       "    </tbody></table>"
      ],
      "text/plain": [
       "<pandas.io.formats.style.Styler at 0x2416cb0f508>"
      ]
     },
     "execution_count": 128,
     "metadata": {},
     "output_type": "execute_result"
    }
   ],
   "source": [
    "items = purchase_data[[\"Item ID\", \"Item Name\", \"Price\"]]\n",
    "\n",
    "\n",
    "item_stats = items.groupby([\"Item ID\",\"Item Name\"])\n",
    "\n",
    "\n",
    "purchase_count_item = item_stats[\"Price\"].count()\n",
    "\n",
    "purchase_value = (item_stats[\"Price\"].sum()) \n",
    "\n",
    "\n",
    "item_price = purchase_value/purchase_count_item\n",
    "\n",
    "\n",
    "most_popular_items = pd.DataFrame({\"Purchase Count\": purchase_count_item, \n",
    "                                   \"Item Price\": item_price,\n",
    "                                   \"Total Purchase Value\":purchase_value})\n",
    "\n",
    "\n",
    "popular_formatted = most_popular_items.sort_values([\"Purchase Count\"], ascending=False).head()\n",
    "\n",
    "\n",
    "popular_formatted.style.format({\"Item Price\":\"${:,.2f}\",\n",
    "                                \"Total Purchase Value\":\"${:,.2f}\"})"
   ]
  },
  {
   "cell_type": "markdown",
   "metadata": {},
   "source": [
    "## Most Profitable Items"
   ]
  },
  {
   "cell_type": "markdown",
   "metadata": {},
   "source": [
    "* Sort the above table by total purchase value in descending order\n",
    "\n",
    "\n",
    "* Optional: give the displayed data cleaner formatting\n",
    "\n",
    "\n",
    "* Display a preview of the data frame\n",
    "\n"
   ]
  },
  {
   "cell_type": "code",
   "execution_count": 121,
   "metadata": {
    "scrolled": true
   },
   "outputs": [
    {
     "data": {
      "text/html": [
       "<style  type=\"text/css\" >\n",
       "</style><table id=\"T_00cd82ba_bd70_11ea_9c26_30d16be174ea\" ><thead>    <tr>        <th class=\"blank\" ></th>        <th class=\"blank level0\" ></th>        <th class=\"col_heading level0 col0\" >Purchase Count</th>        <th class=\"col_heading level0 col1\" >Item Price</th>        <th class=\"col_heading level0 col2\" >Total Purchase Value</th>    </tr>    <tr>        <th class=\"index_name level0\" >Item ID</th>        <th class=\"index_name level1\" >Item Name</th>        <th class=\"blank\" ></th>        <th class=\"blank\" ></th>        <th class=\"blank\" ></th>    </tr></thead><tbody>\n",
       "                <tr>\n",
       "                        <th id=\"T_00cd82ba_bd70_11ea_9c26_30d16be174ealevel0_row0\" class=\"row_heading level0 row0\" >178</th>\n",
       "                        <th id=\"T_00cd82ba_bd70_11ea_9c26_30d16be174ealevel1_row0\" class=\"row_heading level1 row0\" >Oathbreaker, Last Hope of the Breaking Storm</th>\n",
       "                        <td id=\"T_00cd82ba_bd70_11ea_9c26_30d16be174earow0_col0\" class=\"data row0 col0\" >12</td>\n",
       "                        <td id=\"T_00cd82ba_bd70_11ea_9c26_30d16be174earow0_col1\" class=\"data row0 col1\" >$4.23</td>\n",
       "                        <td id=\"T_00cd82ba_bd70_11ea_9c26_30d16be174earow0_col2\" class=\"data row0 col2\" >$50.76</td>\n",
       "            </tr>\n",
       "            <tr>\n",
       "                        <th id=\"T_00cd82ba_bd70_11ea_9c26_30d16be174ealevel0_row1\" class=\"row_heading level0 row1\" >82</th>\n",
       "                        <th id=\"T_00cd82ba_bd70_11ea_9c26_30d16be174ealevel1_row1\" class=\"row_heading level1 row1\" >Nirvana</th>\n",
       "                        <td id=\"T_00cd82ba_bd70_11ea_9c26_30d16be174earow1_col0\" class=\"data row1 col0\" >9</td>\n",
       "                        <td id=\"T_00cd82ba_bd70_11ea_9c26_30d16be174earow1_col1\" class=\"data row1 col1\" >$4.90</td>\n",
       "                        <td id=\"T_00cd82ba_bd70_11ea_9c26_30d16be174earow1_col2\" class=\"data row1 col2\" >$44.10</td>\n",
       "            </tr>\n",
       "            <tr>\n",
       "                        <th id=\"T_00cd82ba_bd70_11ea_9c26_30d16be174ealevel0_row2\" class=\"row_heading level0 row2\" >145</th>\n",
       "                        <th id=\"T_00cd82ba_bd70_11ea_9c26_30d16be174ealevel1_row2\" class=\"row_heading level1 row2\" >Fiery Glass Crusader</th>\n",
       "                        <td id=\"T_00cd82ba_bd70_11ea_9c26_30d16be174earow2_col0\" class=\"data row2 col0\" >9</td>\n",
       "                        <td id=\"T_00cd82ba_bd70_11ea_9c26_30d16be174earow2_col1\" class=\"data row2 col1\" >$4.58</td>\n",
       "                        <td id=\"T_00cd82ba_bd70_11ea_9c26_30d16be174earow2_col2\" class=\"data row2 col2\" >$41.22</td>\n",
       "            </tr>\n",
       "            <tr>\n",
       "                        <th id=\"T_00cd82ba_bd70_11ea_9c26_30d16be174ealevel0_row3\" class=\"row_heading level0 row3\" >92</th>\n",
       "                        <th id=\"T_00cd82ba_bd70_11ea_9c26_30d16be174ealevel1_row3\" class=\"row_heading level1 row3\" >Final Critic</th>\n",
       "                        <td id=\"T_00cd82ba_bd70_11ea_9c26_30d16be174earow3_col0\" class=\"data row3 col0\" >8</td>\n",
       "                        <td id=\"T_00cd82ba_bd70_11ea_9c26_30d16be174earow3_col1\" class=\"data row3 col1\" >$4.88</td>\n",
       "                        <td id=\"T_00cd82ba_bd70_11ea_9c26_30d16be174earow3_col2\" class=\"data row3 col2\" >$39.04</td>\n",
       "            </tr>\n",
       "            <tr>\n",
       "                        <th id=\"T_00cd82ba_bd70_11ea_9c26_30d16be174ealevel0_row4\" class=\"row_heading level0 row4\" >103</th>\n",
       "                        <th id=\"T_00cd82ba_bd70_11ea_9c26_30d16be174ealevel1_row4\" class=\"row_heading level1 row4\" >Singed Scalpel</th>\n",
       "                        <td id=\"T_00cd82ba_bd70_11ea_9c26_30d16be174earow4_col0\" class=\"data row4 col0\" >8</td>\n",
       "                        <td id=\"T_00cd82ba_bd70_11ea_9c26_30d16be174earow4_col1\" class=\"data row4 col1\" >$4.35</td>\n",
       "                        <td id=\"T_00cd82ba_bd70_11ea_9c26_30d16be174earow4_col2\" class=\"data row4 col2\" >$34.80</td>\n",
       "            </tr>\n",
       "    </tbody></table>"
      ],
      "text/plain": [
       "<pandas.io.formats.style.Styler at 0x2416caf1c88>"
      ]
     },
     "execution_count": 121,
     "metadata": {},
     "output_type": "execute_result"
    }
   ],
   "source": [
    "popular_formatted = most_popular_items.sort_values([\"Total Purchase Value\"],\n",
    "                                                   ascending=False).head()\n",
    "\n",
    "popular_formatted.style.format({\"Item Price\":\"${:,.2f}\",\n",
    "                                \"Total Purchase Value\":\"${:,.2f}\"})"
   ]
  },
  {
   "cell_type": "code",
   "execution_count": null,
   "metadata": {},
   "outputs": [],
   "source": []
  }
 ],
 "metadata": {
  "anaconda-cloud": {},
  "kernel_info": {
   "name": "python3"
  },
  "kernelspec": {
   "display_name": "Python 3",
   "language": "python",
   "name": "python3"
  },
  "language_info": {
   "codemirror_mode": {
    "name": "ipython",
    "version": 3
   },
   "file_extension": ".py",
   "mimetype": "text/x-python",
   "name": "python",
   "nbconvert_exporter": "python",
   "pygments_lexer": "ipython3",
   "version": "3.7.6"
  },
  "latex_envs": {
   "LaTeX_envs_menu_present": true,
   "autoclose": false,
   "autocomplete": true,
   "bibliofile": "biblio.bib",
   "cite_by": "apalike",
   "current_citInitial": 1,
   "eqLabelWithNumbers": true,
   "eqNumInitial": 1,
   "hotkeys": {
    "equation": "Ctrl-E",
    "itemize": "Ctrl-I"
   },
   "labels_anchors": false,
   "latex_user_defs": false,
   "report_style_numbering": false,
   "user_envs_cfg": false
  },
  "nteract": {
   "version": "0.2.0"
  }
 },
 "nbformat": 4,
 "nbformat_minor": 2
}
